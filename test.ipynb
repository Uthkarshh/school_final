{
 "cells": [
  {
   "cell_type": "code",
   "execution_count": 1,
   "metadata": {},
   "outputs": [],
   "source": [
    "from school import db, app"
   ]
  },
  {
   "cell_type": "code",
   "execution_count": 2,
   "metadata": {},
   "outputs": [],
   "source": [
    "with app.app_context():\n",
    "    db.create_all()"
   ]
  },
  {
   "cell_type": "code",
   "execution_count": 1,
   "metadata": {},
   "outputs": [
    {
     "name": "stdout",
     "output_type": "stream",
     "text": [
      "Random student data for 25 students generated and saved to 'students_test_data.csv'\n"
     ]
    }
   ],
   "source": [
    "import csv\n",
    "import random\n",
    "import datetime\n",
    "\n",
    "def generate_random_student_data(num_students=10, filename='students_test_data.csv'):\n",
    "    \"\"\"\n",
    "    Generates random student data and saves it to a CSV file.\n",
    "\n",
    "    Args:\n",
    "        num_students (int): The number of random student records to generate.\n",
    "        filename (str): The name of the CSV file to create.\n",
    "    \"\"\"\n",
    "\n",
    "    genders = ['Male', 'Female']\n",
    "\n",
    "    with open(filename, 'w', newline='') as csvfile:\n",
    "        csv_writer = csv.writer(csvfile)\n",
    "\n",
    "        # Write header row (optional, but good practice)\n",
    "        csv_writer.writerow([\n",
    "            'pen_num', 'admission_number', 'aadhar_number', 'student_name',\n",
    "            'father_name', 'mother_name', 'gender', 'date_of_birth',\n",
    "            'date_of_joining', 'contact_number', 'village'\n",
    "        ])\n",
    "\n",
    "        for _ in range(num_students):\n",
    "            pen_num = random.randint(100000, 999999)  # 6-digit PEN number\n",
    "            admission_number = random.randint(1000, 9999) # 4-digit admission number\n",
    "            aadhar_number = random.randint(100000000000, 999999999999) # 12-digit Aadhar\n",
    "            student_name = f\"Student{random.randint(1, 100)}\"\n",
    "            father_name = f\"Father{random.randint(1, 100)}\"\n",
    "            mother_name = f\"Mother{random.randint(1, 100)}\"\n",
    "            gender = random.choice(genders)\n",
    "\n",
    "            start_date = datetime.date(2005, 1, 1) # Example start date for birth and joining\n",
    "            end_date = datetime.date(2020, 1, 1)\n",
    "\n",
    "            time_between_dates = end_date - start_date\n",
    "            days_between_dates = time_between_dates.days\n",
    "            random_number_of_days_dob = random.randrange(days_between_dates)\n",
    "            date_of_birth = start_date + datetime.timedelta(days=random_number_of_days_dob)\n",
    "\n",
    "            random_number_of_days_doj = random.randrange(days_between_dates)\n",
    "            date_of_joining = start_date + datetime.timedelta(days=random_number_of_days_doj)\n",
    "\n",
    "\n",
    "            contact_number = f\"9{random.randint(0,9)}{random.randint(0,9)}{random.randint(0,9)}{random.randint(0,9)}{random.randint(0,9)}{random.randint(0,9)}{random.randint(0,9)}{random.randint(0,9)}{random.randint(0,9)}\" # 10-digit number starting with 9\n",
    "            village = f\"Village{random.randint(1, 20)}\"\n",
    "\n",
    "            csv_writer.writerow([\n",
    "                pen_num, admission_number, aadhar_number, student_name,\n",
    "                father_name, mother_name, gender, date_of_birth.strftime('%Y-%m-%d'),\n",
    "                date_of_joining.strftime('%Y-%m-%d'), contact_number, village\n",
    "            ])\n",
    "\n",
    "    print(f\"Random student data for {num_students} students generated and saved to '{filename}'\")\n",
    "\n",
    "if __name__ == '__main__':\n",
    "    generate_random_student_data(num_students=25) # Generate 25 random student records"
   ]
  }
 ],
 "metadata": {
  "kernelspec": {
   "display_name": ".school",
   "language": "python",
   "name": "python3"
  },
  "language_info": {
   "codemirror_mode": {
    "name": "ipython",
    "version": 3
   },
   "file_extension": ".py",
   "mimetype": "text/x-python",
   "name": "python",
   "nbconvert_exporter": "python",
   "pygments_lexer": "ipython3",
   "version": "3.12.3"
  }
 },
 "nbformat": 4,
 "nbformat_minor": 2
}
